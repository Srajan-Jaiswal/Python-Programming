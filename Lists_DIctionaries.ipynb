{
 "cells": [
  {
   "cell_type": "code",
   "execution_count": 5,
   "metadata": {},
   "outputs": [
    {
     "name": "stdout",
     "output_type": "stream",
     "text": [
      "enter a value:3\n",
      "ram\n",
      "2\n",
      "shyam\n",
      "4\n",
      "raj \n",
      "7\n",
      "{'ram': 2, 'shyam': 4}\n"
     ]
    }
   ],
   "source": [
    "d = {}\n",
    "n = int(input(\"enter a value:\"))\n",
    "for i in range(n):\n",
    "    keys = input() \n",
    "    values = int(input())\n",
    "    if(len(keys)<=6 and values%2==0):\n",
    "        d[keys] = values\n",
    "print(d)"
   ]
  },
  {
   "cell_type": "code",
   "execution_count": 8,
   "metadata": {},
   "outputs": [
    {
     "name": "stdout",
     "output_type": "stream",
     "text": [
      "{1: {'name': 'Srajan', 'Roll_NO': '170'}, 2: {'Marks 1': '35', 'Marks 2': '35', 'Marks 3': '35'}}\n"
     ]
    }
   ],
   "source": [
    "Report = {1: {'name': 'Srajan', 'Roll_NO': '170'},\n",
    "          2: {'Marks 1': '35', 'Marks 2': '35' ,'Marks 3': '35' }}\n",
    "\n",
    "print(Report)"
   ]
  },
  {
   "cell_type": "code",
   "execution_count": 11,
   "metadata": {},
   "outputs": [
    {
     "name": "stdout",
     "output_type": "stream",
     "text": [
      "enter a value:3\n",
      "ram\n",
      "11\n",
      "shyam\n",
      "12\n",
      "raj\n",
      "13\n",
      "{'ram': 11, 'shyam': 12, 'raj': 13}\n",
      "{'ram': 11, 'shyam': 12}\n",
      "{}\n"
     ]
    },
    {
     "ename": "NameError",
     "evalue": "name 'd' is not defined",
     "output_type": "error",
     "traceback": [
      "\u001b[1;31m---------------------------------------------------------------------------\u001b[0m",
      "\u001b[1;31mNameError\u001b[0m                                 Traceback (most recent call last)",
      "\u001b[1;32m<ipython-input-11-6d18d2fb85ab>\u001b[0m in \u001b[0;36m<module>\u001b[1;34m\u001b[0m\n\u001b[0;32m     11\u001b[0m \u001b[0mprint\u001b[0m\u001b[1;33m(\u001b[0m\u001b[0md\u001b[0m\u001b[1;33m)\u001b[0m\u001b[1;33m\u001b[0m\u001b[1;33m\u001b[0m\u001b[0m\n\u001b[0;32m     12\u001b[0m \u001b[1;32mdel\u001b[0m \u001b[0md\u001b[0m\u001b[1;33m\u001b[0m\u001b[1;33m\u001b[0m\u001b[0m\n\u001b[1;32m---> 13\u001b[1;33m \u001b[0mprint\u001b[0m\u001b[1;33m(\u001b[0m\u001b[0md\u001b[0m\u001b[1;33m)\u001b[0m\u001b[1;33m\u001b[0m\u001b[1;33m\u001b[0m\u001b[0m\n\u001b[0m\u001b[0;32m     14\u001b[0m \u001b[1;33m\u001b[0m\u001b[0m\n",
      "\u001b[1;31mNameError\u001b[0m: name 'd' is not defined"
     ]
    }
   ],
   "source": [
    "d = {}\n",
    "n = int(input(\"enter a value:\"))\n",
    "for i in range(n):\n",
    "    keys = input() \n",
    "    values = int(input())\n",
    "    d[keys] = values\n",
    "print(d)     \n",
    "d.popitem()\n",
    "print(d) # 1st method\n",
    "d.clear()\n",
    "print(d) # 2nd method\n",
    "del d\n",
    "print(d) # 3rd method\n",
    "\n"
   ]
  },
  {
   "cell_type": "code",
   "execution_count": 19,
   "metadata": {},
   "outputs": [
    {
     "name": "stdout",
     "output_type": "stream",
     "text": [
      "['my', 'name', 'is', 'srajan', [6, 0, 4, 1]]\n",
      "['my', 'name', 'is', 'srajan', [6, 0, 4, 1], 6, 0, 4, 1]\n",
      "['my', 'name', 'is', 'srajan', [6, 0, 4, 1], 6, 0, 9, 4, 1]\n"
     ]
    }
   ],
   "source": [
    "\n",
    "l1 = ['my', 'name', 'is', 'srajan'] \n",
    "l2 = [6, 0, 4, 1] \n",
    "l1.append(l2) # 1st method\n",
    "print (l1) \n",
    "l1.extend(l2) # 2nd method\n",
    "print(l1)\n",
    "l1.insert(7,9) # 3rd method\n",
    "print(l1)"
   ]
  },
  {
   "cell_type": "code",
   "execution_count": 36,
   "metadata": {},
   "outputs": [
    {
     "name": "stdout",
     "output_type": "stream",
     "text": [
      "[15, 14, 13, 12, 11, 10]\n",
      "65\n"
     ]
    }
   ],
   "source": [
    "def reversing(l):\n",
    "    l5=[]\n",
    "    for i in range(len(l)-1,-1,-1):\n",
    "        l5.append(l[i])\n",
    "    return l5    \n",
    "def sum(l):\n",
    "    cnt=0\n",
    "    n=len(l)\n",
    "    for i in range(1,n):\n",
    "        cnt=cnt+l[i]\n",
    "    return cnt   \n",
    "l = [10, 11, 12, 13, 14, 15] \n",
    "print(reversing(l))\n",
    "print(sum(l))"
   ]
  },
  {
   "cell_type": "code",
   "execution_count": null,
   "metadata": {},
   "outputs": [],
   "source": []
  }
 ],
 "metadata": {
  "kernelspec": {
   "display_name": "Python 3",
   "language": "python",
   "name": "python3"
  },
  "language_info": {
   "codemirror_mode": {
    "name": "ipython",
    "version": 3
   },
   "file_extension": ".py",
   "mimetype": "text/x-python",
   "name": "python",
   "nbconvert_exporter": "python",
   "pygments_lexer": "ipython3",
   "version": "3.7.9"
  }
 },
 "nbformat": 4,
 "nbformat_minor": 4
}
